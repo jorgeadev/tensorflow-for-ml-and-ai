{
 "cells": [
  {
   "cell_type": "markdown",
   "metadata": {},
   "source": [
    "# Núcleos de convolución no lineales ..."
   ]
  },
  {
   "cell_type": "markdown",
   "metadata": {},
   "source": [
    "$$\\max \\left( \\sum_{i=1}^n b_i - \\frac{1}{2}\\sum_{i=1}^n \\sum_{j=1}^n y_i b_i (x_i\\cdot x_j) y_j b_j \\right)$$\n",
    "\n",
    "Sujeto a las restricciones ...\n",
    "$$\\sum_{i = 1}^n b_i y_i = 0$$\n",
    "$$0\\le b_i\\le \\frac{1}{2n\\gamma}$$"
   ]
  },
  {
   "cell_type": "markdown",
   "metadata": {},
   "source": [
    "$k$ se denomina el núcleo (kernel) de la SVM\n",
    "- Caso lineal $k(x_i, x_j) = x_i\\cdot x_j$\n",
    "- Caso general $k(x_i, x_j = \\phi(x_i)\\cdot \\phi(x_j)$"
   ]
  },
  {
   "cell_type": "markdown",
   "metadata": {},
   "source": [
    "- Kernel Gaussiano: $k(x_i, x_j) = e^{-\\gamma||x_i - x_j||^2}$\n",
    "- Predicción: $k(x_i, p_j) = e^{-\\gamma}||x_i - p_j||^2$"
   ]
  },
  {
   "cell_type": "markdown",
   "metadata": {},
   "source": [
    "- Kernel polinomial homogéneo: $k(x_i x_j) = (x_i\\cdot x_j)^d$\n",
    "- Kernel polinomial no homogéneo: $(x_i x_j) = (x_i\\cdot x_j + 1)^d$\n",
    "- Kernel te tangente hiperbólica: $(x_i x_j) = tanh(a x_i\\cdot x_j + k)$"
   ]
  },
  {
   "cell_type": "code",
   "execution_count": 24,
   "metadata": {},
   "outputs": [],
   "source": [
    "import matplotlib.pyplot as plt\n",
    "import numpy as np\n",
    "import tensorflow as tf\n",
    "from sklearn import datasets"
   ]
  },
  {
   "cell_type": "code",
   "execution_count": 2,
   "metadata": {},
   "outputs": [],
   "source": [
    "session = tf.Session()"
   ]
  },
  {
   "cell_type": "code",
   "execution_count": 3,
   "metadata": {},
   "outputs": [],
   "source": [
    "(x_vals, y_vals) = datasets.make_circles(n_samples = 500, factor = 0.5, noise = 0.1)"
   ]
  },
  {
   "cell_type": "code",
   "execution_count": 4,
   "metadata": {
    "scrolled": true
   },
   "outputs": [
    {
     "data": {
      "text/plain": [
       "array([1, 1, 1, 0, 1, 1, 0, 0, 0, 1, 1, 0, 0, 1, 0, 0, 0, 0, 1, 1, 1, 0,\n",
       "       1, 1, 1, 0, 0, 1, 0, 1, 0, 0, 1, 0, 0, 0, 0, 1, 1, 0, 1, 0, 0, 0,\n",
       "       1, 0, 1, 0, 1, 0, 1, 0, 1, 0, 0, 1, 1, 1, 1, 0, 0, 0, 0, 0, 1, 1,\n",
       "       1, 1, 0, 0, 0, 0, 1, 1, 1, 1, 1, 0, 0, 1, 0, 1, 1, 0, 1, 1, 0, 1,\n",
       "       1, 0, 1, 1, 0, 0, 1, 1, 0, 0, 1, 0, 0, 1, 0, 1, 0, 0, 1, 0, 0, 1,\n",
       "       1, 0, 1, 1, 0, 0, 1, 0, 1, 0, 1, 0, 0, 1, 1, 1, 0, 0, 1, 1, 0, 1,\n",
       "       1, 1, 1, 1, 0, 0, 0, 1, 1, 1, 0, 0, 0, 0, 0, 1, 0, 1, 0, 0, 1, 1,\n",
       "       0, 0, 1, 0, 1, 0, 0, 0, 1, 0, 0, 0, 0, 1, 1, 1, 0, 1, 0, 0, 0, 0,\n",
       "       0, 1, 0, 1, 1, 0, 1, 0, 1, 0, 0, 0, 1, 1, 0, 1, 1, 0, 0, 1, 1, 0,\n",
       "       0, 0, 1, 1, 0, 1, 0, 0, 1, 1, 1, 1, 0, 1, 1, 0, 0, 0, 0, 0, 1, 1,\n",
       "       1, 1, 0, 1, 0, 1, 1, 1, 1, 1, 1, 1, 1, 1, 1, 0, 0, 1, 1, 0, 0, 1,\n",
       "       1, 0, 1, 1, 0, 1, 0, 0, 0, 1, 1, 0, 1, 0, 0, 0, 1, 0, 0, 0, 1, 1,\n",
       "       1, 0, 1, 0, 0, 0, 0, 1, 0, 1, 1, 0, 1, 0, 1, 0, 1, 0, 0, 0, 0, 0,\n",
       "       0, 0, 1, 0, 0, 0, 1, 1, 1, 0, 1, 1, 0, 0, 1, 1, 0, 1, 1, 1, 1, 0,\n",
       "       1, 1, 1, 1, 1, 1, 1, 1, 1, 0, 1, 1, 1, 0, 0, 0, 0, 1, 1, 0, 1, 0,\n",
       "       0, 0, 0, 0, 1, 1, 1, 1, 1, 0, 0, 1, 0, 0, 0, 0, 1, 1, 1, 1, 0, 0,\n",
       "       1, 1, 0, 1, 1, 0, 0, 0, 1, 1, 0, 0, 0, 1, 1, 1, 1, 0, 0, 1, 0, 1,\n",
       "       0, 0, 0, 1, 1, 0, 0, 1, 1, 0, 0, 1, 0, 0, 0, 0, 0, 1, 0, 0, 1, 0,\n",
       "       0, 1, 1, 1, 1, 0, 0, 0, 1, 1, 0, 1, 0, 1, 0, 1, 0, 1, 1, 0, 1, 0,\n",
       "       1, 0, 0, 0, 1, 1, 1, 0, 1, 1, 1, 1, 0, 0, 0, 0, 0, 1, 1, 0, 0, 1,\n",
       "       0, 1, 1, 0, 0, 0, 1, 1, 1, 0, 0, 0, 0, 1, 0, 0, 1, 0, 1, 0, 0, 1,\n",
       "       1, 0, 1, 0, 1, 1, 1, 0, 0, 1, 1, 0, 0, 1, 0, 1, 1, 1, 0, 0, 0, 1,\n",
       "       1, 1, 0, 0, 1, 1, 1, 1, 0, 0, 1, 1, 0, 1, 0, 1], dtype=int64)"
      ]
     },
     "execution_count": 4,
     "metadata": {},
     "output_type": "execute_result"
    }
   ],
   "source": [
    "y_vals"
   ]
  },
  {
   "cell_type": "code",
   "execution_count": 5,
   "metadata": {},
   "outputs": [
    {
     "data": {
      "text/plain": [
       "array([[ 0.56400331,  0.04890436],\n",
       "       [ 0.30851311, -0.48001461],\n",
       "       [-0.23643132,  0.52397739],\n",
       "       [-0.94194078,  0.47628779],\n",
       "       [-0.02044309,  0.40994189],\n",
       "       [ 0.45254951,  0.23368658],\n",
       "       [ 0.49191465,  0.95257449],\n",
       "       [ 0.54299677,  0.64335422],\n",
       "       [ 0.92166922, -0.51298113],\n",
       "       [-0.19852428, -0.48237979],\n",
       "       [ 0.43608975, -0.24454682],\n",
       "       [ 0.6976351 , -0.57238484],\n",
       "       [ 0.84401908, -0.67134677],\n",
       "       [-0.29739166,  0.28263851],\n",
       "       [-0.2241433 , -1.15200314],\n",
       "       [ 0.34731915, -0.84298169],\n",
       "       [ 0.2640746 , -0.97457908],\n",
       "       [ 0.99102383, -0.37508404],\n",
       "       [-0.28038438, -0.47097888],\n",
       "       [-0.35854137, -0.46566019],\n",
       "       [ 0.64856062,  0.04153483],\n",
       "       [ 0.67367621,  0.62870266],\n",
       "       [ 0.30881029,  0.3196361 ],\n",
       "       [ 0.38399494, -0.05469119],\n",
       "       [-0.54035601, -0.10617983],\n",
       "       [ 1.14330798,  0.37143636],\n",
       "       [ 0.79830129, -0.28166007],\n",
       "       [ 0.47160603,  0.23316641],\n",
       "       [ 0.58003026,  0.81004875],\n",
       "       [ 0.37972074,  0.2491458 ],\n",
       "       [-0.84886071, -0.53367213],\n",
       "       [ 0.15057026,  0.95737179],\n",
       "       [ 0.24201634, -0.41397813],\n",
       "       [ 0.86338537, -0.04012932],\n",
       "       [ 0.24472395, -1.06973903],\n",
       "       [-0.48667284, -0.86370148],\n",
       "       [ 0.33085213, -1.03581235],\n",
       "       [ 0.50442692,  0.0293185 ],\n",
       "       [ 0.01255947,  0.57817011],\n",
       "       [ 0.98718422,  0.24217655],\n",
       "       [-0.36720435, -0.04311569],\n",
       "       [-0.52093989, -0.67618488],\n",
       "       [-0.15176393, -1.0153922 ],\n",
       "       [-0.44531623,  0.72138063],\n",
       "       [-0.50233026,  0.24175874],\n",
       "       [-0.69065089,  0.70447453],\n",
       "       [ 0.06177546,  0.61971073],\n",
       "       [ 1.03533501,  0.23919375],\n",
       "       [ 0.48829754,  0.30955017],\n",
       "       [ 0.6177679 , -0.65137546],\n",
       "       [-0.47227145, -0.28437409],\n",
       "       [ 0.5310321 ,  0.90993574],\n",
       "       [-0.50227346,  0.00545151],\n",
       "       [-0.21582343, -1.02787309],\n",
       "       [ 0.74077817,  0.71973028],\n",
       "       [-0.42231355,  0.4341411 ],\n",
       "       [-0.24161767,  0.46963294],\n",
       "       [ 0.43258507, -0.26327769],\n",
       "       [ 0.13683226, -0.42859472],\n",
       "       [ 0.75344235, -0.75200688],\n",
       "       [-1.02485973, -0.13718098],\n",
       "       [ 0.02096116, -0.9693893 ],\n",
       "       [ 0.96773777, -0.50597527],\n",
       "       [-0.7293975 ,  0.38908009],\n",
       "       [-0.09777384,  0.47464399],\n",
       "       [ 0.30072162,  0.52924809],\n",
       "       [-0.4112631 , -0.27921216],\n",
       "       [ 0.45567262, -0.3980074 ],\n",
       "       [ 0.44802501, -1.08035762],\n",
       "       [ 0.34111874, -0.91868409],\n",
       "       [ 0.00606738, -0.97093435],\n",
       "       [ 0.52760302, -0.79781365],\n",
       "       [ 0.05310516, -0.58340546],\n",
       "       [ 0.0896039 ,  0.61100709],\n",
       "       [-0.3621357 , -0.31707329],\n",
       "       [-0.20628618,  0.43157635],\n",
       "       [ 0.4553117 ,  0.47838344],\n",
       "       [ 0.82251024,  0.27229662],\n",
       "       [ 0.84613164, -0.30634366],\n",
       "       [-0.23241365, -0.40727801],\n",
       "       [ 0.90109601,  0.04736859],\n",
       "       [-0.02160606,  0.67231741],\n",
       "       [ 0.27580594,  0.36286392],\n",
       "       [-0.92763675, -0.33209714],\n",
       "       [ 0.36594782,  0.239111  ],\n",
       "       [-0.23178547, -0.40508389],\n",
       "       [ 0.68973419,  0.61590743],\n",
       "       [-0.3509022 ,  0.51542148],\n",
       "       [-0.29390466, -0.33193654],\n",
       "       [ 1.00469438, -0.47255446],\n",
       "       [-0.18055551,  0.3716958 ],\n",
       "       [ 0.50203663,  0.17336143],\n",
       "       [-0.90531094,  0.1711824 ],\n",
       "       [-0.81531113, -0.58054134],\n",
       "       [-0.55941662,  0.12059646],\n",
       "       [ 0.02100823,  0.64261668],\n",
       "       [-0.16863193, -0.97256741],\n",
       "       [ 0.96703007, -0.48431974],\n",
       "       [-0.60736445,  0.31095678],\n",
       "       [-1.0001976 ,  0.08673034],\n",
       "       [-1.0338424 ,  0.17149643],\n",
       "       [-0.01586853,  0.47741014],\n",
       "       [ 0.02216677,  0.93809166],\n",
       "       [-0.35847389,  0.02627492],\n",
       "       [-0.18549187,  0.92860758],\n",
       "       [ 0.50026965,  1.03154297],\n",
       "       [ 0.07966586, -0.47865033],\n",
       "       [ 0.58288519, -0.86463397],\n",
       "       [-0.84482179,  0.21689309],\n",
       "       [ 0.20576915,  0.46370731],\n",
       "       [-0.15816421,  0.39536251],\n",
       "       [ 0.76988451, -0.72600647],\n",
       "       [ 0.7138559 , -0.13663446],\n",
       "       [ 0.20503077, -0.37517787],\n",
       "       [ 0.47907943, -1.10414967],\n",
       "       [-0.59770455,  0.83003709],\n",
       "       [ 0.41701227,  0.58126876],\n",
       "       [ 1.01700884, -0.61698859],\n",
       "       [ 0.3439536 , -0.24044965],\n",
       "       [-0.70767735, -0.84260227],\n",
       "       [ 0.02583074, -0.42420497],\n",
       "       [-1.01974083,  0.37844937],\n",
       "       [ 0.98847895, -0.60204344],\n",
       "       [ 0.26536886,  0.27860947],\n",
       "       [-0.61753574,  0.00807835],\n",
       "       [ 0.26294769, -0.19316032],\n",
       "       [-0.98246381,  0.34136787],\n",
       "       [ 0.8570095 ,  0.5772004 ],\n",
       "       [-0.37654684,  0.35083041],\n",
       "       [ 0.29920623,  0.26568579],\n",
       "       [-0.04262579, -0.81501363],\n",
       "       [-0.52534392,  0.18497924],\n",
       "       [-0.57000797, -0.08609934],\n",
       "       [ 0.50695913,  0.21246619],\n",
       "       [-0.39954895,  0.39555468],\n",
       "       [ 0.26305528,  0.44940131],\n",
       "       [-0.53429502,  0.99031272],\n",
       "       [-1.06109385, -0.04668783],\n",
       "       [-0.50382003, -0.92261129],\n",
       "       [ 0.08499799, -0.53573208],\n",
       "       [-0.2432267 ,  0.29722028],\n",
       "       [-0.52610103, -0.27654985],\n",
       "       [-0.94559458,  0.6181334 ],\n",
       "       [ 0.82598849,  0.46608868],\n",
       "       [ 0.64898328,  0.7699263 ],\n",
       "       [ 0.38063052,  1.12125376],\n",
       "       [ 0.00729562,  0.99235619],\n",
       "       [ 0.39493959,  0.43468232],\n",
       "       [ 0.35956914, -0.99651865],\n",
       "       [-0.64126338,  0.13972471],\n",
       "       [ 0.66325382, -0.67945162],\n",
       "       [-0.72797558, -0.56727901],\n",
       "       [ 0.52301855, -0.2704339 ],\n",
       "       [ 0.64036374,  0.07228103],\n",
       "       [-0.82958062, -0.73029957],\n",
       "       [ 0.90613644,  0.2884807 ],\n",
       "       [ 0.63923077, -0.10135589],\n",
       "       [-0.92993708,  0.05687777],\n",
       "       [ 0.27389741,  0.52369969],\n",
       "       [-0.95399421,  0.23844274],\n",
       "       [-0.98323017, -0.33772541],\n",
       "       [-0.76877244, -0.59702249],\n",
       "       [-0.3914497 ,  0.17602571],\n",
       "       [-1.02070016,  0.40769689],\n",
       "       [ 0.020236  , -0.91208951],\n",
       "       [ 0.0112306 ,  0.95751322],\n",
       "       [-0.77605136, -0.61192653],\n",
       "       [-0.19344589, -0.37101842],\n",
       "       [ 0.59931805,  0.05320843],\n",
       "       [ 0.51416764,  0.1647944 ],\n",
       "       [ 0.08048423,  1.03015808],\n",
       "       [-0.4134375 , -0.52006584],\n",
       "       [-0.51726178,  0.96337423],\n",
       "       [ 0.83565203, -0.26723324],\n",
       "       [ 0.1627382 , -0.89590301],\n",
       "       [ 1.02419883,  0.02209565],\n",
       "       [-0.89525299, -0.60857698],\n",
       "       [-0.16053696,  0.68303642],\n",
       "       [ 0.42588376,  0.80436554],\n",
       "       [-0.15451198, -0.61287048],\n",
       "       [ 0.32934091, -0.2981278 ],\n",
       "       [-0.55824122,  0.5279664 ],\n",
       "       [-0.01685821,  0.56002524],\n",
       "       [-0.30869349, -0.93670296],\n",
       "       [-0.31079054,  0.24004353],\n",
       "       [ 0.84060283,  0.61587254],\n",
       "       [-0.54025799,  0.94175271],\n",
       "       [ 1.10482102, -0.07672179],\n",
       "       [-0.35433289, -0.45861786],\n",
       "       [ 0.67801276, -0.03664168],\n",
       "       [-0.82635367,  0.58942709],\n",
       "       [ 0.18314478, -0.58331386],\n",
       "       [-0.43533155, -0.2144794 ],\n",
       "       [-0.91613101,  0.22770695],\n",
       "       [ 0.47198232,  0.99514064],\n",
       "       [-0.06475902, -0.55313875],\n",
       "       [ 0.54591018, -0.30446399],\n",
       "       [-0.70317058, -0.91300976],\n",
       "       [ 1.06505638,  0.06448678],\n",
       "       [-0.54374414,  0.88811434],\n",
       "       [ 0.07899918,  0.55439284],\n",
       "       [-0.30563508, -0.55350062],\n",
       "       [ 0.68515121, -0.7276122 ],\n",
       "       [-0.23248074, -0.35914315],\n",
       "       [-1.10027354, -0.20842266],\n",
       "       [-0.97618931, -0.50211468],\n",
       "       [-0.24689165, -0.55332809],\n",
       "       [ 0.49021344,  0.1205907 ],\n",
       "       [ 0.53316872,  0.02054567],\n",
       "       [-0.39685787, -0.03277243],\n",
       "       [ 0.91374745,  0.66430837],\n",
       "       [-0.01029563,  0.49236422],\n",
       "       [ 0.4682362 ,  0.01032685],\n",
       "       [ 0.17666482, -1.05189954],\n",
       "       [ 0.80896664,  0.10634851],\n",
       "       [ 0.87029723,  0.40734212],\n",
       "       [-0.21759083, -0.98689278],\n",
       "       [ 0.79874092,  0.68367001],\n",
       "       [ 0.02397272,  0.47412607],\n",
       "       [-0.33935769,  0.27880502],\n",
       "       [-0.63562911, -0.24844137],\n",
       "       [-0.41195788,  0.38063889],\n",
       "       [-0.94339539, -0.45529953],\n",
       "       [-0.29524802,  0.06764004],\n",
       "       [ 0.006284  ,  0.93760501],\n",
       "       [ 0.14522846, -0.50794485],\n",
       "       [ 0.3245985 ,  0.4817895 ],\n",
       "       [-0.43673532,  0.09407434],\n",
       "       [ 0.41712109, -0.24162173],\n",
       "       [ 0.49944258,  0.01471675],\n",
       "       [ 0.30350108, -0.30299341],\n",
       "       [-0.42820409,  0.30260481],\n",
       "       [ 0.51728581,  0.28901256],\n",
       "       [-0.516248  , -0.01399633],\n",
       "       [-0.43762074,  0.06644779],\n",
       "       [ 0.30422234,  0.90369108],\n",
       "       [-0.93107108, -0.70470392],\n",
       "       [ 0.12059266, -0.65473959],\n",
       "       [-0.21056788, -0.43714966],\n",
       "       [-0.08239839,  1.08985075],\n",
       "       [ 0.57100257, -0.75783014],\n",
       "       [-0.50939777,  0.34119959],\n",
       "       [ 0.19275426,  0.53249583],\n",
       "       [-0.51944045, -0.87944258],\n",
       "       [ 0.33444579, -0.20094748],\n",
       "       [-0.16864035,  0.35752477],\n",
       "       [-0.98174551,  0.29838589],\n",
       "       [ 0.51332744,  0.18186989],\n",
       "       [ 0.76095061, -0.64856313],\n",
       "       [ 0.58541075,  1.04400352],\n",
       "       [-0.19862288,  0.93945822],\n",
       "       [-0.34661407, -0.31139252],\n",
       "       [-0.66719596, -0.21339425],\n",
       "       [-0.55476609,  0.75240788],\n",
       "       [-0.10836555,  0.35933418],\n",
       "       [ 1.01031495, -0.22091776],\n",
       "       [-0.2701675 , -0.92669318],\n",
       "       [-0.87533126,  0.67764464],\n",
       "       [ 0.65627841, -0.08239662],\n",
       "       [-1.0369451 ,  0.50985893],\n",
       "       [ 1.00950739,  0.48984937],\n",
       "       [-0.40867088, -1.04593668],\n",
       "       [ 0.4949033 ,  0.31553064],\n",
       "       [ 0.1033278 , -0.56301859],\n",
       "       [-0.37141498,  0.24781273],\n",
       "       [-1.1428246 , -0.10263818],\n",
       "       [ 0.3375063 , -0.32043497],\n",
       "       [ 0.96992601,  0.31192017],\n",
       "       [-0.76512173,  0.70456603],\n",
       "       [-1.08205065, -0.10908909],\n",
       "       [-0.19825653,  1.20492069],\n",
       "       [ 0.27967455,  0.29239395],\n",
       "       [ 0.977364  ,  0.45317889],\n",
       "       [ 0.67603899,  0.08379758],\n",
       "       [-0.36935062,  0.34266933],\n",
       "       [ 0.92575683, -0.23113989],\n",
       "       [-0.53278491, -0.2718792 ],\n",
       "       [-0.31235933,  0.71202569],\n",
       "       [-0.34855065, -0.42825883],\n",
       "       [ 0.20845692,  1.04617844],\n",
       "       [ 0.50914902, -0.42248063],\n",
       "       [ 0.07426854,  0.94074944],\n",
       "       [-0.40661094, -0.91696051],\n",
       "       [ 0.7875012 ,  0.80687591],\n",
       "       [ 0.85985153, -0.36815928],\n",
       "       [ 0.21029164,  0.83313189],\n",
       "       [ 1.07744218, -0.27712066],\n",
       "       [-0.67419989, -0.65910816],\n",
       "       [ 0.27776092,  0.4616606 ],\n",
       "       [-1.12458681,  0.14324072],\n",
       "       [ 1.1077206 , -0.01564814],\n",
       "       [-0.92470353,  0.4115419 ],\n",
       "       [ 0.44028853, -0.11620905],\n",
       "       [ 0.13265695, -0.40569881],\n",
       "       [ 0.18652024,  0.56712321],\n",
       "       [ 0.24283931, -1.06685291],\n",
       "       [-0.16144521, -0.47859049],\n",
       "       [ 0.50708476, -0.12419251],\n",
       "       [-0.24719843,  0.84806807],\n",
       "       [ 0.13894519, -1.04824066],\n",
       "       [-0.50620051,  0.00932406],\n",
       "       [-0.12673373, -0.43409344],\n",
       "       [ 0.98185464, -0.50092024],\n",
       "       [-0.49964106,  0.26077862],\n",
       "       [ 0.48021793, -0.39528594],\n",
       "       [ 0.03537755, -0.52267387],\n",
       "       [ 0.53203612,  0.4136081 ],\n",
       "       [ 0.4653679 ,  0.92883199],\n",
       "       [-0.40218652,  0.10508837],\n",
       "       [ 0.24430645, -0.35469897],\n",
       "       [-0.35199885, -0.00593578],\n",
       "       [ 0.25207795, -0.43153561],\n",
       "       [ 0.46825607,  0.08595983],\n",
       "       [-0.27718111,  0.357688  ],\n",
       "       [-0.54391401, -0.12470712],\n",
       "       [ 0.43822196, -0.25209833],\n",
       "       [ 0.07996355,  0.3399395 ],\n",
       "       [ 0.3317794 ,  1.10640123],\n",
       "       [ 0.18694202, -0.48988502],\n",
       "       [ 0.67518157,  0.06905136],\n",
       "       [-0.08913344, -0.49055937],\n",
       "       [ 0.41610481, -0.8456628 ],\n",
       "       [ 0.8853483 ,  0.43563294],\n",
       "       [ 0.01415494,  1.05578387],\n",
       "       [-0.95928222,  0.41120794],\n",
       "       [-0.34185637,  0.09492759],\n",
       "       [-0.31461898,  0.25043106],\n",
       "       [ 0.97649503, -0.54800538],\n",
       "       [ 0.35554502, -0.30635118],\n",
       "       [-0.81670192,  0.32495668],\n",
       "       [-0.99238209, -0.40887108],\n",
       "       [-0.94314117, -0.19528978],\n",
       "       [-0.37912597,  0.88591031],\n",
       "       [-0.28550715, -1.12560398],\n",
       "       [-0.19467743,  0.19995715],\n",
       "       [ 0.43065585,  0.20463326],\n",
       "       [ 0.28301786,  0.35869612],\n",
       "       [-0.62779595, -0.10140042],\n",
       "       [-0.29548014,  0.18941144],\n",
       "       [-0.88432461, -0.82160824],\n",
       "       [ 1.00304899,  0.41583917],\n",
       "       [ 0.37843962,  0.40149607],\n",
       "       [-1.07881237, -0.22613763],\n",
       "       [-0.88713308,  0.59885924],\n",
       "       [-0.96670021, -0.04783544],\n",
       "       [-0.94734534,  0.66028155],\n",
       "       [-0.28814917,  0.30657602],\n",
       "       [ 0.4753378 ,  0.61167043],\n",
       "       [-0.43704163,  0.34528868],\n",
       "       [-0.28129186, -0.23620174],\n",
       "       [-0.12848799, -1.03490085],\n",
       "       [ 1.10248877,  0.00182337],\n",
       "       [-0.02906307,  0.4675604 ],\n",
       "       [-0.13740051,  0.25601235],\n",
       "       [ 1.07435658, -0.16866269],\n",
       "       [ 0.21238443, -0.56514615],\n",
       "       [ 0.05805296, -0.63336631],\n",
       "       [-0.38115011,  0.77733192],\n",
       "       [-0.75662389,  0.76090251],\n",
       "       [-0.44432387,  1.05264209],\n",
       "       [ 0.21020566,  0.54344525],\n",
       "       [-0.32367123, -0.48675967],\n",
       "       [-0.79341422,  0.68057973],\n",
       "       [-1.01680652,  0.02459086],\n",
       "       [-1.03211555,  0.02845682],\n",
       "       [-0.33380479,  0.28132745],\n",
       "       [ 0.43750994,  0.33484479],\n",
       "       [-0.38896245, -0.29602904],\n",
       "       [ 0.29953159,  0.36549329],\n",
       "       [-0.54698409,  0.9802947 ],\n",
       "       [ 0.56486249,  0.99059463],\n",
       "       [ 0.29598167, -0.37951005],\n",
       "       [ 0.82332205,  0.03131704],\n",
       "       [ 0.05183037, -0.60391197],\n",
       "       [-0.16004152, -1.04948881],\n",
       "       [-0.80053527, -0.34989923],\n",
       "       [ 0.50125154, -0.96947551],\n",
       "       [ 0.22509236,  0.52628671],\n",
       "       [-0.32748684,  0.49410992],\n",
       "       [-0.15927524,  1.06853733],\n",
       "       [-0.32870174,  1.0306822 ],\n",
       "       [-0.28313525, -0.0887992 ],\n",
       "       [-0.14439958, -0.51372091],\n",
       "       [-1.05461973, -0.00802542],\n",
       "       [ 1.12152873, -0.13527752],\n",
       "       [-0.45466019, -0.12243588],\n",
       "       [-0.85841869, -0.45527266],\n",
       "       [-0.7219939 ,  0.69906671],\n",
       "       [-0.33759711, -1.0836111 ],\n",
       "       [ 0.7143889 ,  0.69402819],\n",
       "       [ 0.66668646,  0.87217591],\n",
       "       [ 0.09971826,  0.55839118],\n",
       "       [ 0.65733842, -0.77307984],\n",
       "       [-0.71908403, -0.95490002],\n",
       "       [ 0.48989898, -0.09159635],\n",
       "       [-0.43029643,  1.07813168],\n",
       "       [ 0.11550844, -0.8238912 ],\n",
       "       [-0.48485086, -0.25338068],\n",
       "       [ 0.25521284, -0.56450484],\n",
       "       [ 0.48730834,  0.50019883],\n",
       "       [ 0.60169994,  0.04165515],\n",
       "       [-1.12946089,  0.12820054],\n",
       "       [-1.01824745, -0.13151365],\n",
       "       [ 0.83360247,  0.49531298],\n",
       "       [ 0.02284776,  0.62820083],\n",
       "       [ 0.01391795,  0.49239957],\n",
       "       [-0.96924277, -0.14225861],\n",
       "       [-0.43803392, -0.41003508],\n",
       "       [-0.63613979,  0.81188667],\n",
       "       [-0.43467692, -0.41494916],\n",
       "       [ 0.88287983,  0.22380773],\n",
       "       [-0.12709774, -0.3830627 ],\n",
       "       [-0.17105527, -1.01672396],\n",
       "       [ 0.32412163, -0.55607487],\n",
       "       [-0.18796422, -0.35979868],\n",
       "       [-0.68441962, -0.52924286],\n",
       "       [-0.23974059, -0.45867214],\n",
       "       [-0.13812703,  0.91908126],\n",
       "       [ 0.48079876, -0.11174832],\n",
       "       [ 0.87635687,  0.33870686],\n",
       "       [ 0.1389282 ,  0.97463133],\n",
       "       [ 0.21063501, -0.97839627],\n",
       "       [ 0.16440783,  0.43679406],\n",
       "       [ 0.49400525, -0.47250914],\n",
       "       [ 0.4233703 , -0.37405268],\n",
       "       [-0.98444336, -0.42784244],\n",
       "       [-0.38062085,  0.40828932],\n",
       "       [ 0.61303373, -0.24363975],\n",
       "       [-0.39442614,  0.07107615],\n",
       "       [-0.41431557,  0.01533455],\n",
       "       [-0.00972378, -1.16500252],\n",
       "       [-1.01892882, -0.11134471],\n",
       "       [ 0.52453439, -0.73373854],\n",
       "       [-0.36877434,  1.07995734],\n",
       "       [ 0.66959763,  0.67498934],\n",
       "       [ 0.37144728, -0.23229667],\n",
       "       [ 0.07703623, -0.59005482],\n",
       "       [ 0.89872815, -0.13654289],\n",
       "       [-0.78331357,  0.24286902],\n",
       "       [-0.39361257,  0.01368394],\n",
       "       [-0.52024267, -0.86407433],\n",
       "       [ 0.26049073,  0.38965201],\n",
       "       [-0.15695207,  0.33277057],\n",
       "       [-0.67205832, -0.86080692],\n",
       "       [-0.8988011 , -0.34295217],\n",
       "       [ 0.27046981,  0.93340769],\n",
       "       [ 0.52426565, -0.18431292],\n",
       "       [-0.13673732, -0.47931043],\n",
       "       [-0.01341406, -0.47291223],\n",
       "       [ 0.78105219, -0.37303612],\n",
       "       [ 0.53154999, -1.01328128],\n",
       "       [ 0.10378881, -0.87150675],\n",
       "       [-0.87235024, -0.22999262],\n",
       "       [ 0.59957999,  0.03305497],\n",
       "       [-0.14214877, -1.02794162],\n",
       "       [ 0.03930274,  0.91874829],\n",
       "       [-0.28598604, -0.49784685],\n",
       "       [-0.01153001,  0.87278037],\n",
       "       [ 0.46067614, -0.0971684 ],\n",
       "       [-0.79132425, -0.67976275],\n",
       "       [ 0.0383978 ,  1.01111602],\n",
       "       [ 0.30169086, -0.54597751],\n",
       "       [ 0.40422655, -0.46218693],\n",
       "       [ 0.53135795, -0.8593718 ],\n",
       "       [-0.41329527,  0.35690282],\n",
       "       [ 0.66021904,  0.72412234],\n",
       "       [-0.16440243,  0.4295773 ],\n",
       "       [ 0.29009368,  0.4613291 ],\n",
       "       [-0.268623  , -0.56667413],\n",
       "       [ 0.58485141,  0.83370786],\n",
       "       [-0.71518518,  0.54978583],\n",
       "       [ 0.08550635, -0.69212606],\n",
       "       [-0.03667753, -0.50333549],\n",
       "       [-0.57267447,  0.80594892],\n",
       "       [ 0.89600376, -0.08619756],\n",
       "       [ 0.42213348, -0.30155754],\n",
       "       [-0.30430801,  0.84573532],\n",
       "       [-0.53732304, -0.27105576],\n",
       "       [ 0.1166818 ,  0.36979566],\n",
       "       [-0.47454057, -0.25207725],\n",
       "       [-0.69709084, -0.76639114],\n",
       "       [ 1.07392079, -0.13322687],\n",
       "       [ 0.02231651, -1.13355253],\n",
       "       [-0.46626202, -0.34869176],\n",
       "       [-0.04203654,  0.53462865],\n",
       "       [-0.32060997, -0.2633803 ],\n",
       "       [ 0.74421618, -0.74497638],\n",
       "       [ 1.0212146 ,  0.50231699],\n",
       "       [ 0.54867686,  0.18582339],\n",
       "       [ 0.29693672,  0.47074706],\n",
       "       [-0.46131051,  0.27921462],\n",
       "       [-0.1479965 ,  0.42129423],\n",
       "       [ 0.96358531,  0.47830802],\n",
       "       [ 0.52993145, -0.94728236],\n",
       "       [ 0.63088504, -0.13872517],\n",
       "       [-0.49134274,  0.12508682],\n",
       "       [ 0.44556243, -0.91792429],\n",
       "       [-0.4823857 ,  0.04164551],\n",
       "       [-0.55325051, -0.96427043],\n",
       "       [ 0.04811285, -0.64013571]])"
      ]
     },
     "execution_count": 5,
     "metadata": {},
     "output_type": "execute_result"
    }
   ],
   "source": [
    "x_vals"
   ]
  },
  {
   "cell_type": "code",
   "execution_count": 6,
   "metadata": {},
   "outputs": [],
   "source": [
    "y_vals = np.array([1 if y == 1 else -1 for y in y_vals])"
   ]
  },
  {
   "cell_type": "code",
   "execution_count": 7,
   "metadata": {},
   "outputs": [],
   "source": [
    "class1_x = [x[0] for i, x in enumerate(x_vals) if y_vals[i] == 1]\n",
    "class1_y = [x[1] for i, x in enumerate(x_vals) if y_vals[i] == 1]\n",
    "\n",
    "class2_x = [x[0] for i, x in enumerate(x_vals) if y_vals[i] == -1]\n",
    "class2_y = [x[1] for i, x in enumerate(x_vals) if y_vals[i] == -1]"
   ]
  },
  {
   "cell_type": "code",
   "execution_count": 8,
   "metadata": {},
   "outputs": [
    {
     "data": {
      "image/png": "[encoded data removed]",
      "text/plain": [
       "<Figure size 1152x648 with 1 Axes>"
      ]
     },
     "metadata": {
      "needs_background": "light"
     },
     "output_type": "display_data"
    }
   ],
   "source": [
    "plt.figure(figsize = (16, 9))\n",
    "plt.plot(class1_x, class1_y, \"ro\", label = \"Clase 1\")\n",
    "plt.plot(class2_x, class2_y, \"bx\", label = \"Clase 2\")\n",
    "plt.show()"
   ]
  },
  {
   "cell_type": "code",
   "execution_count": 9,
   "metadata": {},
   "outputs": [],
   "source": [
    "batch_size = 500\n",
    "x_data = tf.placeholder(shape = [None, 2], dtype = tf.float32)\n",
    "y_target = tf.placeholder(shape = [None, 1], dtype = tf.float32)\n",
    "prediction_grid = tf.placeholder(shape = [None, 2], dtype = tf.float32)\n",
    "b = tf.Variable(tf.random_normal(shape = [1, batch_size]))"
   ]
  },
  {
   "cell_type": "code",
   "execution_count": 10,
   "metadata": {},
   "outputs": [],
   "source": [
    "gamma = tf.constant(-50.0)\n",
    "dist = tf.reduce_sum(tf.square(x_data), 1)\n",
    "dist = tf.reshape(dist, [-1, 1])\n",
    "sq_distance = tf.add(tf.subtract(dist, tf.multiply(2.0, tf.matmul(x_data, tf.transpose(x_data)))), tf.transpose(dist))\n",
    "my_kernel = tf.exp(tf.multiply(gamma, tf.abs(sq_distance)))"
   ]
  },
  {
   "cell_type": "code",
   "execution_count": 11,
   "metadata": {},
   "outputs": [],
   "source": [
    "first_sum = tf.reduce_sum(b)\n",
    "b_vect_cross = tf.matmul(tf.transpose(b), b)\n",
    "y_target_cross = tf.matmul(y_target, tf.transpose(y_target))\n",
    "second_sum = tf.reduce_sum(tf.multiply(my_kernel, tf.multiply(b_vect_cross, y_target_cross)))\n",
    "loss = tf.negative(tf.subtract(first_sum, second_sum))"
   ]
  },
  {
   "cell_type": "code",
   "execution_count": 12,
   "metadata": {},
   "outputs": [],
   "source": [
    "rA = tf.reshape(tf.reduce_sum(tf.square(x_data), 1), [-1, 1])\n",
    "rB = tf.reshape(tf.reduce_sum(tf.square(prediction_grid), 1), [-1, 1])\n",
    "\n",
    "pred_sq_dist = tf.add(tf.subtract(rA, tf.multiply(2.0, tf.matmul(x_data, tf.transpose(prediction_grid)))), \n",
    "                      tf.transpose(rB))\n",
    "pred_kernel = tf.exp(tf.multiply(gamma, tf.abs(pred_sq_dist)))"
   ]
  },
  {
   "cell_type": "code",
   "execution_count": 13,
   "metadata": {},
   "outputs": [],
   "source": [
    "prediction_output = tf.matmul(tf.multiply(tf.transpose(y_target), b), pred_kernel)\n",
    "prediction = tf.sign(prediction_output - tf.reduce_mean(prediction_output))"
   ]
  },
  {
   "cell_type": "code",
   "execution_count": 14,
   "metadata": {},
   "outputs": [],
   "source": [
    "accuracy = tf.reduce_mean(tf.cast(tf.equal(tf.squeeze(prediction), tf.squeeze(y_target)), tf.float32))"
   ]
  },
  {
   "cell_type": "code",
   "execution_count": 15,
   "metadata": {},
   "outputs": [],
   "source": [
    "my_optim = tf.train.GradientDescentOptimizer(0.002)\n",
    "train_step = my_optim.minimize(loss)\n",
    "init = tf.global_variables_initializer()\n",
    "session.run(init)"
   ]
  },
  {
   "cell_type": "code",
   "execution_count": 16,
   "metadata": {
    "scrolled": true
   },
   "outputs": [
    {
     "name": "stdout",
     "output_type": "stream",
     "text": [
      "Paso # 100, Pérdida = 175.61746, Precisión = 0.606\n",
      "Paso # 200, Pérdida = 110.148254, Precisión = 0.672\n",
      "Paso # 300, Pérdida = 40.960728, Precisión = 0.73\n",
      "Paso # 400, Pérdida = 7.266815, Precisión = 0.844\n",
      "Paso # 500, Pérdida = -1.4486351, Precisión = 0.918\n",
      "Paso # 600, Pérdida = -7.676365, Precisión = 0.944\n",
      "Paso # 700, Pérdida = -9.819662, Precisión = 0.984\n",
      "Paso # 800, Pérdida = -11.230093, Precisión = 0.996\n",
      "Paso # 900, Pérdida = -12.493649, Precisión = 1.0\n",
      "Paso # 1000, Pérdida = -12.198305, Precisión = 1.0\n",
      "Paso # 1100, Pérdida = -11.78394, Precisión = 0.99\n",
      "Paso # 1200, Pérdida = -12.503457, Precisión = 1.0\n",
      "Paso # 1300, Pérdida = -12.665403, Precisión = 1.0\n",
      "Paso # 1400, Pérdida = -12.201181, Precisión = 0.998\n",
      "Paso # 1500, Pérdida = -11.370973, Precisión = 0.996\n",
      "Paso # 1600, Pérdida = -12.296094, Precisión = 0.994\n",
      "Paso # 1700, Pérdida = -12.262201, Precisión = 1.0\n",
      "Paso # 1800, Pérdida = -11.815073, Precisión = 0.996\n",
      "Paso # 1900, Pérdida = -11.587064, Precisión = 0.994\n",
      "Paso # 2000, Pérdida = -11.979997, Precisión = 0.996\n",
      "Paso # 2100, Pérdida = -13.3786745, Precisión = 1.0\n",
      "Paso # 2200, Pérdida = -12.168945, Precisión = 0.99\n",
      "Paso # 2300, Pérdida = -11.742256, Precisión = 0.998\n",
      "Paso # 2400, Pérdida = -12.084438, Precisión = 1.0\n",
      "Paso # 2500, Pérdida = -12.124294, Precisión = 0.998\n",
      "Paso # 2600, Pérdida = -12.05875, Precisión = 1.0\n",
      "Paso # 2700, Pérdida = -12.2031355, Precisión = 1.0\n",
      "Paso # 2800, Pérdida = -12.024113, Precisión = 0.998\n",
      "Paso # 2900, Pérdida = -12.339196, Precisión = 0.996\n",
      "Paso # 3000, Pérdida = -12.548778, Precisión = 0.998\n",
      "Paso # 3100, Pérdida = -12.50149, Precisión = 0.998\n",
      "Paso # 3200, Pérdida = -12.632717, Precisión = 1.0\n",
      "Paso # 3300, Pérdida = -12.473612, Precisión = 0.998\n",
      "Paso # 3400, Pérdida = -12.148719, Precisión = 1.0\n",
      "Paso # 3500, Pérdida = -12.235942, Precisión = 1.0\n",
      "Paso # 3600, Pérdida = -11.480356, Precisión = 1.0\n",
      "Paso # 3700, Pérdida = -12.317591, Precisión = 1.0\n",
      "Paso # 3800, Pérdida = -12.089479, Precisión = 0.998\n",
      "Paso # 3900, Pérdida = -11.814028, Precisión = 0.992\n",
      "Paso # 4000, Pérdida = -11.804765, Precisión = 0.996\n",
      "Paso # 4100, Pérdida = -12.199781, Precisión = 1.0\n",
      "Paso # 4200, Pérdida = -12.282338, Precisión = 0.996\n",
      "Paso # 4300, Pérdida = -11.786648, Precisión = 0.996\n",
      "Paso # 4400, Pérdida = -12.57975, Precisión = 1.0\n",
      "Paso # 4500, Pérdida = -12.490866, Precisión = 0.998\n",
      "Paso # 4600, Pérdida = -12.663295, Precisión = 0.998\n",
      "Paso # 4700, Pérdida = -12.655979, Precisión = 1.0\n",
      "Paso # 4800, Pérdida = -12.184837, Precisión = 0.998\n",
      "Paso # 4900, Pérdida = -11.52091, Precisión = 0.994\n",
      "Paso # 5000, Pérdida = -12.275318, Precisión = 0.996\n"
     ]
    }
   ],
   "source": [
    "loss_vect = []\n",
    "batch_acc = []\n",
    "for i in range(5000):\n",
    "    rand_idx = np.random.choice(len(x_vals), size = batch_size)\n",
    "    rand_x = x_vals[rand_idx]\n",
    "    rand_y = np.transpose([y_vals[rand_idx]])\n",
    "    session.run(train_step, feed_dict = {x_data: rand_x, y_target: rand_y})\n",
    "    \n",
    "    temp_loss = session.run(loss, feed_dict = {x_data: rand_x, y_target: rand_y})\n",
    "    loss_vect.append(temp_loss)\n",
    "    \n",
    "    acc_temp = session.run(accuracy, feed_dict = {x_data: rand_x, y_target: rand_y, prediction_grid: rand_x})\n",
    "    batch_acc.append(acc_temp)\n",
    "    if (i + 1) % 100 == 0:\n",
    "        print(\"Paso # \" + str(i + 1) + \", Pérdida = \" + str(temp_loss) + \", Precisión = \" + str(acc_temp))"
   ]
  },
  {
   "cell_type": "code",
   "execution_count": 17,
   "metadata": {},
   "outputs": [],
   "source": [
    "x_min, x_max = x_vals[:,0].min() - 1, x_vals[:,0].max() + 1\n",
    "y_min, y_max = x_vals[:,1].min() - 1, x_vals[:,1].max() + 1\n",
    "\n",
    "xx, yy = np.meshgrid(np.arange(x_min, x_max, 0.02), np.arange(y_min, y_max, 0.02))\n",
    "\n",
    "grid_points = np.c_[xx.ravel(), yy.ravel()]"
   ]
  },
  {
   "cell_type": "code",
   "execution_count": 18,
   "metadata": {},
   "outputs": [],
   "source": [
    "[grid_prediction] = session.run(prediction, feed_dict = {x_data: x_vals,\n",
    "                                                         y_target: np.transpose([y_vals]),\n",
    "                                                         prediction_grid: grid_points})"
   ]
  },
  {
   "cell_type": "code",
   "execution_count": 19,
   "metadata": {},
   "outputs": [
    {
     "data": {
      "text/plain": [
       "array([1., 1., 1., ..., 1., 1., 1.], dtype=float32)"
      ]
     },
     "execution_count": 19,
     "metadata": {},
     "output_type": "execute_result"
    }
   ],
   "source": [
    "grid_prediction"
   ]
  },
  {
   "cell_type": "code",
   "execution_count": 20,
   "metadata": {},
   "outputs": [
    {
     "data": {
      "text/plain": [
       "array([[1., 1., 1., ..., 1., 1., 1.],\n",
       "       [1., 1., 1., ..., 1., 1., 1.],\n",
       "       [1., 1., 1., ..., 1., 1., 1.],\n",
       "       ...,\n",
       "       [1., 1., 1., ..., 1., 1., 1.],\n",
       "       [1., 1., 1., ..., 1., 1., 1.],\n",
       "       [1., 1., 1., ..., 1., 1., 1.]], dtype=float32)"
      ]
     },
     "execution_count": 20,
     "metadata": {},
     "output_type": "execute_result"
    }
   ],
   "source": [
    "grid_prediction = grid_prediction.reshape(xx.shape)\n",
    "grid_prediction"
   ]
  },
  {
   "cell_type": "code",
   "execution_count": 21,
   "metadata": {},
   "outputs": [
    {
     "data": {
      "image/png": "[encoded data removed]",
      "text/plain": [
       "<Figure size 1152x648 with 1 Axes>"
      ]
     },
     "metadata": {
      "needs_background": "light"
     },
     "output_type": "display_data"
    }
   ],
   "source": [
    "plt.figure(figsize = (16, 9))\n",
    "plt.contourf(xx, yy, grid_prediction, cmap = plt.cm.Paired, alpha = 0.7)\n",
    "plt.plot(class1_x, class1_y, \"ro\", label = \"Calse 1\")\n",
    "plt.plot(class2_x, class2_y, \"bx\", label = \"Calse 2\")\n",
    "plt.legend(loc = \"lower right\")\n",
    "plt.xlim([-1.5, 1.5])\n",
    "plt.ylim([-1.5, 1.5])\n",
    "plt.show()"
   ]
  },
  {
   "cell_type": "code",
   "execution_count": 22,
   "metadata": {},
   "outputs": [
    {
     "data": {
      "image/png": "[encoded data removed]",
      "text/plain": [
       "<Figure size 1152x648 with 1 Axes>"
      ]
     },
     "metadata": {
      "needs_background": "light"
     },
     "output_type": "display_data"
    }
   ],
   "source": [
    "plt.figure(figsize = (16, 9))\n",
    "plt.plot(batch_acc, \"k-\", label = \"Precisión\")\n",
    "plt.title(\"Precisión en la clasificación\")\n",
    "plt.xlabel(\"Número de Iteraciones\")\n",
    "plt.ylabel(\"Precisión\")\n",
    "plt.legend(loc = \"lower right\")\n",
    "plt.show()"
   ]
  },
  {
   "cell_type": "code",
   "execution_count": 23,
   "metadata": {},
   "outputs": [
    {
     "data": {
      "image/png": "[encoded data removed]",
      "text/plain": [
       "<Figure size 1152x648 with 1 Axes>"
      ]
     },
     "metadata": {
      "needs_background": "light"
     },
     "output_type": "display_data"
    }
   ],
   "source": [
    "plt.figure(figsize = (16, 9))\n",
    "plt.plot(loss_vect, \"k-\")\n",
    "plt.title(\"Pérdidas por Iteración\")\n",
    "plt.show()"
   ]
  },
  {
   "cell_type": "code",
   "execution_count": null,
   "metadata": {},
   "outputs": [],
   "source": []
  }
 ],
 "metadata": {
  "kernelspec": {
   "display_name": "Python 3",
   "language": "python",
   "name": "python3"
  },
  "language_info": {
   "codemirror_mode": {
    "name": "ipython",
    "version": 3
   },
   "file_extension": ".py",
   "mimetype": "text/x-python",
   "name": "python",
   "nbconvert_exporter": "python",
   "pygments_lexer": "ipython3",
   "version": "3.7.6"
  }
 },
 "nbformat": 4,
 "nbformat_minor": 4
}

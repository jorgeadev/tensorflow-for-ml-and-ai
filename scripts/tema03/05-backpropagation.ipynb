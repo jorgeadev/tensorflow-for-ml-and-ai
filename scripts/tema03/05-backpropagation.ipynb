{
 "cells": [
  {
   "cell_type": "markdown",
   "metadata": {},
   "source": [
    "# Propagación hacia atrás..."
   ]
  },
  {
   "cell_type": "code",
   "execution_count": 2,
   "metadata": {},
   "outputs": [],
   "source": [
    "import tensorflow.compat.v1 as tf\n",
    "tf.disable_v2_behavior()\n",
    "\n",
    "#import tensorflow as tf\n",
    "import numpy as np\n",
    "session = tf.Session()"
   ]
  },
  {
   "cell_type": "markdown",
   "metadata": {},
   "source": [
    "## Ejemplo de regresión...\n",
    "- $X \\sim N(1.0, 0.1)$\n",
    "- $y = Ax, A = 10$\n",
    "- $target = 10$\n",
    "- $L2$ Función de pérdidas"
   ]
  },
  {
   "cell_type": "code",
   "execution_count": 3,
   "metadata": {},
   "outputs": [],
   "source": [
    "x_vals = np.random.normal(loc = 1, scale = 0.1, size = 200)\n",
    "y_vals = np.repeat(10., 200)"
   ]
  },
  {
   "cell_type": "code",
   "execution_count": 4,
   "metadata": {},
   "outputs": [],
   "source": [
    "x_data = tf.placeholder(shape = [1], dtype = tf.float32)\n",
    "y_target = tf.placeholder(shape = [1], dtype = tf.float32)\n",
    "A = tf.Variable(tf.random_normal(shape = [1]))"
   ]
  },
  {
   "cell_type": "code",
   "execution_count": 5,
   "metadata": {},
   "outputs": [],
   "source": [
    "my_pred = tf.multiply(A, x_data)"
   ]
  },
  {
   "cell_type": "code",
   "execution_count": 6,
   "metadata": {},
   "outputs": [],
   "source": [
    "loss = tf.square(my_pred - y_target)"
   ]
  },
  {
   "cell_type": "code",
   "execution_count": 7,
   "metadata": {},
   "outputs": [],
   "source": [
    "%config IPCompleter.greedy = True"
   ]
  },
  {
   "cell_type": "code",
   "execution_count": 8,
   "metadata": {},
   "outputs": [],
   "source": [
    "my_optim = tf.train.GradientDescentOptimizer(learning_rate = 0.025)\n",
    "train_step = my_optim.minimize(loss)"
   ]
  },
  {
   "cell_type": "code",
   "execution_count": 9,
   "metadata": {},
   "outputs": [],
   "source": [
    "init = tf.global_variables_initializer()\n",
    "session.run(init)"
   ]
  },
  {
   "cell_type": "code",
   "execution_count": 10,
   "metadata": {},
   "outputs": [
    {
     "name": "stdout",
     "output_type": "stream",
     "text": [
      "Paso # 20 A = [6.7644663] Loss: [13.789023]\n",
      "Paso # 40 A = [8.883624] Loss: [0.48933107]\n",
      "Paso # 60 A = [9.567501] Loss: [0.11334214]\n",
      "Paso # 80 A = [9.567236] Loss: [2.4404676]\n",
      "Paso # 100 A = [9.978621] Loss: [0.36039194]\n",
      "Paso # 120 A = [10.128424] Loss: [0.00178608]\n",
      "Paso # 140 A = [10.272318] Loss: [2.6714828]\n",
      "Paso # 160 A = [10.035866] Loss: [1.9155215]\n",
      "Paso # 180 A = [10.097019] Loss: [0.0463375]\n",
      "Paso # 200 A = [9.934915] Loss: [0.99065304]\n"
     ]
    }
   ],
   "source": [
    "for i in range(200):\n",
    "    rand_index = np.random.choice(200)\n",
    "    rand_x = [x_vals[rand_index]]\n",
    "    rand_y = [y_vals[rand_index]]\n",
    "    session.run(train_step, feed_dict = {x_data: rand_x, y_target: rand_y})\n",
    "    if((i + 1) % 20 == 0):\n",
    "        print(\"Paso # \" +str(i + 1) + \" A = \" + str(session.run(A)) + \n",
    "              \" Loss: \" + str(session.run(loss, feed_dict = {x_data: rand_x, y_target: rand_y})))"
   ]
  },
  {
   "cell_type": "markdown",
   "metadata": {},
   "source": [
    "## Ejemplo de clasificación binaria...\n",
    "- $x\\sim N(-2, 1), X_2 \\sim N(2, 1$\n",
    "- $target(X_1) = 0, target(X_2) = 1$\n",
    "- sigmoid(x+A) = $\\frac{1}{1+e^{-(x + a)}}$\n",
    "- Determinar el valor de $A$\n",
    "- Teoricamente $A\\simeq \\frac{m_1 + m_2}{2}, m_1 = -2, m_2 = 2$"
   ]
  },
  {
   "cell_type": "code",
   "execution_count": 11,
   "metadata": {},
   "outputs": [],
   "source": [
    "from tensorflow.python.framework import ops\n",
    "ops.reset_default_graph()\n",
    "session = tf.Session()"
   ]
  },
  {
   "cell_type": "code",
   "execution_count": 12,
   "metadata": {},
   "outputs": [],
   "source": [
    "x_vals = np.concatenate((np.random.normal(-2, 1, 100), np.random.normal(2, 1, 100)))\n",
    "y_vals = np.concatenate((np.repeat(0., 100), np.repeat(1., 100)))"
   ]
  },
  {
   "cell_type": "code",
   "execution_count": 13,
   "metadata": {},
   "outputs": [],
   "source": [
    "x_data = tf.placeholder(shape = [1], dtype = tf.float32)\n",
    "y_target = tf.placeholder(shape = [1], dtype = tf.float32)\n",
    "A = tf.Variable(tf.random_normal(mean = 10, shape = [1]))"
   ]
  },
  {
   "cell_type": "code",
   "execution_count": 14,
   "metadata": {},
   "outputs": [],
   "source": [
    "my_prediction = tf.add(x_data, A)"
   ]
  },
  {
   "cell_type": "code",
   "execution_count": 15,
   "metadata": {},
   "outputs": [],
   "source": [
    "my_prediction_expanded = tf.expand_dims(my_prediction, 0)\n",
    "y_target_expanded = tf.expand_dims(y_target, 0)"
   ]
  },
  {
   "cell_type": "code",
   "execution_count": 19,
   "metadata": {},
   "outputs": [
    {
     "name": "stdout",
     "output_type": "stream",
     "text": [
      "[9.396342]\n"
     ]
    }
   ],
   "source": [
    "init = tf.initialize_all_variables()\n",
    "session.run(init)\n",
    "print(session.run(A))"
   ]
  },
  {
   "cell_type": "code",
   "execution_count": 21,
   "metadata": {},
   "outputs": [],
   "source": [
    "xentr = tf.nn.sigmoid_cross_entropy_with_logits(logits = my_prediction_expanded, labels = y_target_expanded)"
   ]
  },
  {
   "cell_type": "code",
   "execution_count": 22,
   "metadata": {},
   "outputs": [],
   "source": [
    "my_optim = tf.train.GradientDescentOptimizer(learning_rate = 0.04)\n",
    "train_step = my_optim.minimize(xentr)"
   ]
  },
  {
   "cell_type": "code",
   "execution_count": 23,
   "metadata": {},
   "outputs": [
    {
     "name": "stdout",
     "output_type": "stream",
     "text": [
      "Paso # 100 A = [7.403312] Loss: [[4.94322]]\n",
      "Paso # 200 A = [5.4349427] Loss: [[3.4247806]]\n",
      "Paso # 300 A = [3.6386957] Loss: [[0.00108438]]\n",
      "Paso # 400 A = [2.1494808] Loss: [[0.9900037]]\n",
      "Paso # 500 A = [1.22895] Loss: [[1.0705324]]\n",
      "Paso # 600 A = [0.7273705] Loss: [[0.1858098]]\n",
      "Paso # 700 A = [0.5074451] Loss: [[0.08230934]]\n",
      "Paso # 800 A = [0.2951296] Loss: [[0.2159936]]\n",
      "Paso # 900 A = [0.13473989] Loss: [[0.04455743]]\n",
      "Paso # 1000 A = [0.09298912] Loss: [[0.12817164]]\n",
      "Paso # 1100 A = [0.10601704] Loss: [[0.05564508]]\n",
      "Paso # 1200 A = [-0.05760719] Loss: [[0.09579608]]\n",
      "Paso # 1300 A = [0.01124461] Loss: [[0.04094837]]\n",
      "Paso # 1400 A = [-0.024442] Loss: [[0.22180459]]\n",
      "Paso # 1500 A = [0.11610628] Loss: [[0.36249083]]\n",
      "Paso # 1600 A = [0.10740959] Loss: [[0.6620574]]\n",
      "Paso # 1700 A = [-0.00867631] Loss: [[0.08200202]]\n",
      "Paso # 1800 A = [-0.02937973] Loss: [[0.11788046]]\n",
      "Paso # 1900 A = [0.03034652] Loss: [[0.05738389]]\n",
      "Paso # 2000 A = [-0.01589391] Loss: [[0.11167067]]\n"
     ]
    }
   ],
   "source": [
    "for i in range(2000):\n",
    "    rand_idx = np.random.choice(200)\n",
    "    rand_x = [x_vals[rand_idx]]\n",
    "    rand_y = [y_vals[rand_idx]]\n",
    "    session.run(train_step, feed_dict = {x_data: rand_x, y_target: rand_y})\n",
    "    if (i + 1) % 100 == 0:\n",
    "        print(\"Paso # \" +str(i + 1) + \" A = \" + str(session.run(A)) + \n",
    "              \" Loss: \" + str(session.run(xentr, feed_dict = {x_data: rand_x, y_target: rand_y})))"
   ]
  },
  {
   "cell_type": "code",
   "execution_count": null,
   "metadata": {},
   "outputs": [],
   "source": []
  }
 ],
 "metadata": {
  "kernelspec": {
   "display_name": "Python 3",
   "language": "python",
   "name": "python3"
  },
  "language_info": {
   "codemirror_mode": {
    "name": "ipython",
    "version": 3
   },
   "file_extension": ".py",
   "mimetype": "text/x-python",
   "name": "python",
   "nbconvert_exporter": "python",
   "pygments_lexer": "ipython3",
   "version": "3.7.4"
  }
 },
 "nbformat": 4,
 "nbformat_minor": 2
}

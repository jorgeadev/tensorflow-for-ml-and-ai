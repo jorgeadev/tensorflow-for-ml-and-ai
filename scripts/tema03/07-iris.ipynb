{
 "cells": [
  {
   "cell_type": "markdown",
   "metadata": {},
   "source": [
    "# Clasificación de la especie *Iris Setosa* ..."
   ]
  },
  {
   "cell_type": "code",
   "execution_count": 2,
   "metadata": {},
   "outputs": [],
   "source": [
    "import matplotlib.pyplot as plt\n",
    "import numpy as np\n",
    "from sklearn import datasets\n",
    "import tensorflow as tf\n",
    "session = tf.Session()"
   ]
  },
  {
   "cell_type": "markdown",
   "metadata": {},
   "source": [
    "## Carga y manipulación de datos..."
   ]
  },
  {
   "cell_type": "code",
   "execution_count": 3,
   "metadata": {},
   "outputs": [],
   "source": [
    "iris = datasets.load_iris()\n",
    "binary_target = np.array([1.0 if x == 0 else 0.0 for x in iris.target])\n",
    "iris2d = np.array([[x[2], x[3]] for x in iris.data])"
   ]
  },
  {
   "cell_type": "markdown",
   "metadata": {},
   "source": [
    "## Declarar variables..."
   ]
  },
  {
   "cell_type": "code",
   "execution_count": 4,
   "metadata": {},
   "outputs": [],
   "source": [
    "batch_size = 20\n",
    "x1_data = tf.placeholder(shape = [None, 1], dtype = tf.float32)\n",
    "x2_data = tf.placeholder(shape = [None, 1], dtype = tf.float32)\n",
    "y_target = tf.placeholder(shape = [None, 1], dtype = tf.float32)"
   ]
  },
  {
   "cell_type": "markdown",
   "metadata": {},
   "source": [
    "## Crear el modelo...\n",
    "$$x_2 = Ax_1 + b \\Rightarrow x_2 - Ax_1 - b = 0$$"
   ]
  },
  {
   "cell_type": "code",
   "execution_count": 5,
   "metadata": {},
   "outputs": [],
   "source": [
    "A = tf.Variable(tf.random_normal(shape = [1, 1]))\n",
    "b = tf.Variable(tf.random_normal(shape = [1, 1]))"
   ]
  },
  {
   "cell_type": "code",
   "execution_count": 6,
   "metadata": {},
   "outputs": [],
   "source": [
    "my_mult = tf.matmul(x2_data, A)\n",
    "my_add = tf.add(my_mult, b)\n",
    "my_prediction = tf.subtract(x1_data, my_add)"
   ]
  },
  {
   "cell_type": "markdown",
   "metadata": {},
   "source": [
    "## Función de pérdidas y propagación hacia atrás..."
   ]
  },
  {
   "cell_type": "code",
   "execution_count": 7,
   "metadata": {},
   "outputs": [
    {
     "name": "stdout",
     "output_type": "stream",
     "text": [
      "WARNING:tensorflow:From c:\\users\\jorge\\appdata\\local\\programs\\python\\python37\\lib\\site-packages\\tensorflow\\python\\ops\\nn_impl.py:180: add_dispatch_support.<locals>.wrapper (from tensorflow.python.ops.array_ops) is deprecated and will be removed in a future version.\n",
      "Instructions for updating:\n",
      "Use tf.where in 2.0, which has the same broadcast rule as np.where\n"
     ]
    }
   ],
   "source": [
    "xentropy = tf.nn.sigmoid_cross_entropy_with_logits(logits = my_prediction, labels = y_target)\n",
    "my_optimizer = tf.train.GradientDescentOptimizer(learning_rate = 0.05)\n",
    "train_step = my_optimizer.minimize(xentropy)"
   ]
  },
  {
   "cell_type": "markdown",
   "metadata": {},
   "source": [
    "## Inicializar variables..."
   ]
  },
  {
   "cell_type": "code",
   "execution_count": 8,
   "metadata": {},
   "outputs": [],
   "source": [
    "init = tf.global_variables_initializer()\n",
    "session.run(init)"
   ]
  },
  {
   "cell_type": "markdown",
   "metadata": {},
   "source": [
    "## Entrenar el modelo..."
   ]
  },
  {
   "cell_type": "code",
   "execution_count": 9,
   "metadata": {},
   "outputs": [
    {
     "name": "stdout",
     "output_type": "stream",
     "text": [
      "Paso # 100, A = [[7.303435]], b = [[-2.2836423]]\n",
      "Paso # 200, A = [[8.723068]], b = [[-3.387361]]\n",
      "Paso # 300, A = [[9.534821]], b = [[-4.1929646]]\n",
      "Paso # 400, A = [[10.218703]], b = [[-4.651631]]\n",
      "Paso # 500, A = [[10.714326]], b = [[-5.088145]]\n",
      "Paso # 600, A = [[11.215446]], b = [[-5.341242]]\n",
      "Paso # 700, A = [[11.5062]], b = [[-5.746]]\n",
      "Paso # 800, A = [[11.873034]], b = [[-5.9532676]]\n",
      "Paso # 900, A = [[12.130873]], b = [[-6.2160544]]\n",
      "Paso # 1000, A = [[12.377299]], b = [[-6.4344296]]\n"
     ]
    }
   ],
   "source": [
    "for i in range(1000):\n",
    "    rand_idx = np.random.choice(len(iris2d), size = batch_size)\n",
    "    rand_x = iris2d[rand_idx]\n",
    "    rand_x1 = np.array([[x[0]] for x in rand_x])\n",
    "    rand_x2 = np.array([[x[1]] for x in rand_x])\n",
    "    rand_y = np.array([[y] for y in binary_target[rand_idx]])\n",
    "    session.run(train_step, feed_dict = {x1_data: rand_x1, x2_data: rand_x2, y_target: rand_y})\n",
    "    if (i + 1) % 100 == 0:\n",
    "        print(\"Paso # \" + str(i + 1) + \", A = \" + str(session.run(A)) + \", b = \" + str(session.run(b)))"
   ]
  },
  {
   "cell_type": "markdown",
   "metadata": {},
   "source": [
    "## Modelo final..."
   ]
  },
  {
   "cell_type": "code",
   "execution_count": 10,
   "metadata": {},
   "outputs": [],
   "source": [
    "[[slope]] = session.run(A)\n",
    "[[intercept]] = session.run(b)"
   ]
  },
  {
   "cell_type": "markdown",
   "metadata": {},
   "source": [
    "## Representación de la separación..."
   ]
  },
  {
   "cell_type": "code",
   "execution_count": 11,
   "metadata": {},
   "outputs": [],
   "source": [
    "x = np.linspace(0, 3, num = 100)\n",
    "abline_values = []\n",
    "for i in x:\n",
    "    abline_values.append(slope * i + intercept)\n",
    "\n",
    "setosa_x = [a[1] for i, a in enumerate(iris2d) if binary_target[i] == 1]\n",
    "setosa_y = [a[0] for i, a in enumerate(iris2d) if binary_target[i] == 1]\n",
    "\n",
    "no_setosa_x = [a[1] for i, a in enumerate(iris2d) if binary_target[i] == 0]\n",
    "no_setosa_y = [a[0] for i, a in enumerate(iris2d) if binary_target[i] == 0]"
   ]
  },
  {
   "cell_type": "code",
   "execution_count": 13,
   "metadata": {},
   "outputs": [
    {
     "data": {
      "image/png": "[encoded data removed]",
      "text/plain": [
       "<Figure size 1152x648 with 1 Axes>"
      ]
     },
     "metadata": {
      "needs_background": "light"
     },
     "output_type": "display_data"
    }
   ],
   "source": [
    "plt.figure(figsize = (16, 9))\n",
    "plt.plot(setosa_x, setosa_y, \"rx\", ms = 10, mew = 2, label = \"Setosa\")\n",
    "plt.plot(no_setosa_x, no_setosa_y, \"ro\", label = \"No Setosa\")\n",
    "plt.plot(x, abline_values, \"b-\")\n",
    "plt.suptitle(\"Separación lineal de las Setosas\", fontsize = 16)\n",
    "plt.xlabel(\"Longitud de los Pétalos\")\n",
    "plt.ylabel(\"Anchura de los Pétalos\")\n",
    "plt.legend(\"lower right\")\n",
    "plt.xlim([0.0, 2.75])\n",
    "plt.ylim([0.0, 7.5])\n",
    "plt.show()"
   ]
  },
  {
   "cell_type": "code",
   "execution_count": null,
   "metadata": {},
   "outputs": [],
   "source": []
  },
  {
   "cell_type": "code",
   "execution_count": null,
   "metadata": {},
   "outputs": [],
   "source": []
  }
 ],
 "metadata": {
  "kernelspec": {
   "display_name": "Python 3",
   "language": "python",
   "name": "python3"
  },
  "language_info": {
   "codemirror_mode": {
    "name": "ipython",
    "version": 3
   },
   "file_extension": ".py",
   "mimetype": "text/x-python",
   "name": "python",
   "nbconvert_exporter": "python",
   "pygments_lexer": "ipython3",
   "version": "3.7.4"
  }
 },
 "nbformat": 4,
 "nbformat_minor": 2
}

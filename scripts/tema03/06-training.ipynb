{
 "cells": [
  {
   "cell_type": "markdown",
   "metadata": {},
   "source": [
    "# Entrenamiento estocástico y por bloques..."
   ]
  },
  {
   "cell_type": "code",
   "execution_count": 29,
   "metadata": {},
   "outputs": [],
   "source": [
    "import numpy as np\n",
    "import matplotlib.pyplot as plt\n",
    "import tensorflow as tf\n",
    "session = tf.Session()"
   ]
  },
  {
   "cell_type": "code",
   "execution_count": 30,
   "metadata": {},
   "outputs": [],
   "source": [
    "batch_size = 25"
   ]
  },
  {
   "cell_type": "code",
   "execution_count": 31,
   "metadata": {},
   "outputs": [],
   "source": [
    "x_vals = np.random.normal(1.0, 0.1, 200)\n",
    "y_vals = np.repeat(10.0, 200)"
   ]
  },
  {
   "cell_type": "code",
   "execution_count": 32,
   "metadata": {},
   "outputs": [],
   "source": [
    "x_data = tf.placeholder(shape = [None, 1], dtype = tf.float32)\n",
    "y_target = tf.placeholder(shape = [None, 1], dtype = tf.float32)\n",
    "A = tf.Variable(tf.random_normal(shape = [1, 1]))"
   ]
  },
  {
   "cell_type": "code",
   "execution_count": 33,
   "metadata": {},
   "outputs": [],
   "source": [
    "my_prediction = tf.matmul(x_data, A)"
   ]
  },
  {
   "cell_type": "code",
   "execution_count": 34,
   "metadata": {},
   "outputs": [],
   "source": [
    "loss = tf.reduce_mean(tf.square(my_prediction - y_target))"
   ]
  },
  {
   "cell_type": "code",
   "execution_count": 35,
   "metadata": {},
   "outputs": [],
   "source": [
    "my_optimizer = tf.train.GradientDescentOptimizer(learning_rate = 0.025)\n",
    "train_step = my_optimizer.minimize(loss)"
   ]
  },
  {
   "cell_type": "code",
   "execution_count": 36,
   "metadata": {},
   "outputs": [],
   "source": [
    "init = tf.global_variables_initializer()"
   ]
  },
  {
   "cell_type": "code",
   "execution_count": 37,
   "metadata": {},
   "outputs": [],
   "source": [
    "session.run(init)"
   ]
  },
  {
   "cell_type": "code",
   "execution_count": 38,
   "metadata": {},
   "outputs": [
    {
     "name": "stdout",
     "output_type": "stream",
     "text": [
      "Paso # 5 A= [[3.3421159]]\n",
      "Loss: 44.879513\n",
      "Paso # 10 A= [[4.8392425]]\n",
      "Loss: 28.454767\n",
      "Paso # 15 A= [[5.9975486]]\n",
      "Loss: 16.454216\n",
      "Paso # 20 A= [[6.886505]]\n",
      "Loss: 9.663511\n",
      "Paso # 25 A= [[7.5866437]]\n",
      "Loss: 6.9006224\n",
      "Paso # 30 A= [[8.126144]]\n",
      "Loss: 3.2607145\n",
      "Paso # 35 A= [[8.559698]]\n",
      "Loss: 3.340426\n",
      "Paso # 40 A= [[8.87078]]\n",
      "Loss: 2.746682\n",
      "Paso # 45 A= [[9.128284]]\n",
      "Loss: 1.5189246\n",
      "Paso # 50 A= [[9.303556]]\n",
      "Loss: 0.99723643\n",
      "Paso # 55 A= [[9.4498205]]\n",
      "Loss: 1.1271611\n",
      "Paso # 60 A= [[9.584968]]\n",
      "Loss: 0.8863016\n",
      "Paso # 65 A= [[9.682406]]\n",
      "Loss: 1.5135705\n",
      "Paso # 70 A= [[9.751507]]\n",
      "Loss: 0.7152527\n",
      "Paso # 75 A= [[9.801011]]\n",
      "Loss: 1.0413175\n",
      "Paso # 80 A= [[9.841844]]\n",
      "Loss: 0.4353977\n",
      "Paso # 85 A= [[9.872445]]\n",
      "Loss: 0.9392098\n",
      "Paso # 90 A= [[9.907333]]\n",
      "Loss: 0.61153483\n",
      "Paso # 95 A= [[9.931938]]\n",
      "Loss: 0.6195961\n",
      "Paso # 100 A= [[9.914541]]\n",
      "Loss: 0.85872954\n",
      "Paso # 105 A= [[9.936766]]\n",
      "Loss: 0.81556803\n",
      "Paso # 110 A= [[9.924366]]\n",
      "Loss: 0.3944384\n",
      "Paso # 115 A= [[9.93]]\n",
      "Loss: 0.91494995\n",
      "Paso # 120 A= [[9.923813]]\n",
      "Loss: 0.73156714\n",
      "Paso # 125 A= [[9.917462]]\n",
      "Loss: 1.2309823\n",
      "Paso # 130 A= [[9.900941]]\n",
      "Loss: 0.5971787\n",
      "Paso # 135 A= [[9.881431]]\n",
      "Loss: 0.790735\n",
      "Paso # 140 A= [[9.904823]]\n",
      "Loss: 0.7530239\n",
      "Paso # 145 A= [[9.89794]]\n",
      "Loss: 1.1865228\n",
      "Paso # 150 A= [[9.930322]]\n",
      "Loss: 1.278304\n",
      "Paso # 155 A= [[9.973177]]\n",
      "Loss: 0.8034342\n",
      "Paso # 160 A= [[9.961628]]\n",
      "Loss: 0.8373115\n",
      "Paso # 165 A= [[9.937367]]\n",
      "Loss: 0.6121606\n",
      "Paso # 170 A= [[9.936435]]\n",
      "Loss: 0.7411678\n",
      "Paso # 175 A= [[9.916238]]\n",
      "Loss: 0.7182121\n",
      "Paso # 180 A= [[9.941416]]\n",
      "Loss: 0.8123251\n",
      "Paso # 185 A= [[9.933065]]\n",
      "Loss: 0.42484352\n",
      "Paso # 190 A= [[9.929911]]\n",
      "Loss: 0.6415287\n",
      "Paso # 195 A= [[9.933239]]\n",
      "Loss: 0.5571217\n",
      "Paso # 200 A= [[9.903936]]\n",
      "Loss: 0.5867332\n"
     ]
    }
   ],
   "source": [
    "loss_batch = []\n",
    "for i in range(200):\n",
    "    rand_index = np.random.choice(200, size = batch_size)\n",
    "    rand_x = np.transpose([x_vals[rand_index]])\n",
    "    rand_y = np.transpose([y_vals[rand_index]])\n",
    "    session.run(train_step, feed_dict = {x_data: rand_x, y_target: rand_y})\n",
    "    if (i + 1)% 5 == 0:\n",
    "        print(\"Paso # \" + str(i + 1) + \" A= \" + str(session.run(A)))\n",
    "        temp_loss = session.run(loss, feed_dict = {x_data: rand_x, y_target: rand_y})\n",
    "        print(\"Loss: \" + str(temp_loss))\n",
    "        loss_batch.append(temp_loss)"
   ]
  },
  {
   "cell_type": "markdown",
   "metadata": {},
   "source": [
    "### Estocastic session..."
   ]
  },
  {
   "cell_type": "code",
   "execution_count": 39,
   "metadata": {},
   "outputs": [
    {
     "name": "stdout",
     "output_type": "stream",
     "text": [
      "Paso # 5 A= [[9.937099]]\n",
      "Loss: 0.3745294\n",
      "Paso # 10 A= [[10.020406]]\n",
      "Loss: 0.81758034\n",
      "Paso # 15 A= [[9.950231]]\n",
      "Loss: 0.027728632\n",
      "Paso # 20 A= [[9.945202]]\n",
      "Loss: 1.4189807\n",
      "Paso # 25 A= [[9.981194]]\n",
      "Loss: 0.25902742\n",
      "Paso # 30 A= [[9.92738]]\n",
      "Loss: 0.7865425\n",
      "Paso # 35 A= [[9.980004]]\n",
      "Loss: 0.16360405\n",
      "Paso # 40 A= [[9.878969]]\n",
      "Loss: 1.26138\n",
      "Paso # 45 A= [[9.826351]]\n",
      "Loss: 0.0056248284\n",
      "Paso # 50 A= [[9.826271]]\n",
      "Loss: 0.7728568\n",
      "Paso # 55 A= [[9.865806]]\n",
      "Loss: 0.06583396\n",
      "Paso # 60 A= [[9.976678]]\n",
      "Loss: 1.2275833\n",
      "Paso # 65 A= [[9.998805]]\n",
      "Loss: 0.72858334\n",
      "Paso # 70 A= [[9.94452]]\n",
      "Loss: 0.0060938336\n",
      "Paso # 75 A= [[9.906104]]\n",
      "Loss: 0.5550248\n",
      "Paso # 80 A= [[9.890508]]\n",
      "Loss: 0.0060878797\n",
      "Paso # 85 A= [[9.831707]]\n",
      "Loss: 0.024058336\n",
      "Paso # 90 A= [[9.83386]]\n",
      "Loss: 0.45977125\n",
      "Paso # 95 A= [[9.804616]]\n",
      "Loss: 1.21344\n",
      "Paso # 100 A= [[9.782592]]\n",
      "Loss: 0.27320963\n",
      "Paso # 105 A= [[9.837601]]\n",
      "Loss: 0.004793464\n",
      "Paso # 110 A= [[9.952822]]\n",
      "Loss: 0.019974912\n",
      "Paso # 115 A= [[9.945948]]\n",
      "Loss: 0.6694077\n",
      "Paso # 120 A= [[9.956429]]\n",
      "Loss: 0.19679508\n",
      "Paso # 125 A= [[9.879037]]\n",
      "Loss: 0.8789849\n",
      "Paso # 130 A= [[9.746776]]\n",
      "Loss: 0.6258551\n",
      "Paso # 135 A= [[9.916358]]\n",
      "Loss: 0.57177615\n",
      "Paso # 140 A= [[9.849282]]\n",
      "Loss: 0.32560563\n",
      "Paso # 145 A= [[9.906821]]\n",
      "Loss: 0.4266231\n",
      "Paso # 150 A= [[9.997029]]\n",
      "Loss: 0.2759812\n",
      "Paso # 155 A= [[10.036151]]\n",
      "Loss: 0.04877177\n",
      "Paso # 160 A= [[10.014077]]\n",
      "Loss: 1.5700431\n",
      "Paso # 165 A= [[10.004982]]\n",
      "Loss: 0.013573116\n",
      "Paso # 170 A= [[10.119642]]\n",
      "Loss: 0.8311817\n",
      "Paso # 175 A= [[10.116811]]\n",
      "Loss: 3.639641e-05\n",
      "Paso # 180 A= [[10.12646]]\n",
      "Loss: 0.15298004\n",
      "Paso # 185 A= [[9.984087]]\n",
      "Loss: 1.0677117\n",
      "Paso # 190 A= [[9.881442]]\n",
      "Loss: 1.4126533\n",
      "Paso # 195 A= [[10.017511]]\n",
      "Loss: 1.00684\n",
      "Paso # 200 A= [[9.835742]]\n",
      "Loss: 5.2666097\n"
     ]
    }
   ],
   "source": [
    "loss_stochastic = []\n",
    "for i in range(200):\n",
    "    rand_index = np.random.choice(200, size = 1)\n",
    "    rand_x = [x_vals[rand_index]]\n",
    "    rand_y = [y_vals[rand_index]]\n",
    "    session.run(train_step, feed_dict = {x_data: rand_x, y_target: rand_y})\n",
    "    if (i + 1)% 5 == 0:\n",
    "        print(\"Paso # \" + str(i + 1) + \" A= \" + str(session.run(A)))\n",
    "        temp_loss = session.run(loss, feed_dict = {x_data: rand_x, y_target: rand_y})\n",
    "        print(\"Loss: \" + str(temp_loss))\n",
    "        loss_stochastic.append(temp_loss)"
   ]
  },
  {
   "cell_type": "code",
   "execution_count": 47,
   "metadata": {},
   "outputs": [
    {
     "data": {
      "image/png": "[encoded data removed]",
      "text/plain": [
       "<Figure size 936x504 with 1 Axes>"
      ]
     },
     "metadata": {
      "needs_background": "light"
     },
     "output_type": "display_data"
    }
   ],
   "source": [
    "plt.figure(figsize = (13, 7))\n",
    "plt.plot(range(0, 200, 5), loss_stochastic, \"b-\", label = \"Entrenamiento Estocástico\")\n",
    "plt.plot(range(0, 200, 5), loss_batch, \"r--\", label = \"Entrenamiento por bloques de tamaño 25\")\n",
    "plt.legend(loc = \"upper right\", prop = {\"size\": 12})\n",
    "plt.show()"
   ]
  },
  {
   "cell_type": "code",
   "execution_count": null,
   "metadata": {},
   "outputs": [],
   "source": []
  }
 ],
 "metadata": {
  "kernelspec": {
   "display_name": "Python 3",
   "language": "python",
   "name": "python3"
  },
  "language_info": {
   "codemirror_mode": {
    "name": "ipython",
    "version": 3
   },
   "file_extension": ".py",
   "mimetype": "text/x-python",
   "name": "python",
   "nbconvert_exporter": "python",
   "pygments_lexer": "ipython3",
   "version": "3.7.4"
  }
 },
 "nbformat": 4,
 "nbformat_minor": 2
}

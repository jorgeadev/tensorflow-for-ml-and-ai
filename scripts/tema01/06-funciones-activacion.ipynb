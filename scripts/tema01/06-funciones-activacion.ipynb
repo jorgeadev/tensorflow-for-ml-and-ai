{
 "cells": [
  {
   "cell_type": "markdown",
   "metadata": {},
   "source": [
    "# Funciones de activación..."
   ]
  },
  {
   "cell_type": "code",
   "execution_count": 6,
   "metadata": {},
   "outputs": [],
   "source": [
    "import tensorflow.nn as nn\n",
    "import tensorflow as tf\n",
    "session = tf.Session()"
   ]
  },
  {
   "cell_type": "markdown",
   "metadata": {},
   "source": [
    "## Función ReLU...\n",
    "* Contínua\n",
    "* No derivable"
   ]
  },
  {
   "cell_type": "markdown",
   "metadata": {},
   "source": [
    "$$ f(x) = max(0, x)$$"
   ]
  },
  {
   "cell_type": "code",
   "execution_count": 7,
   "metadata": {},
   "outputs": [
    {
     "name": "stdout",
     "output_type": "stream",
     "text": [
      "[ 0.  5. 15.]\n"
     ]
    }
   ],
   "source": [
    "print(session.run(nn.relu([-5., 5., 15.])))"
   ]
  },
  {
   "cell_type": "markdown",
   "metadata": {},
   "source": [
    "$$ f(x) = min(max(0, x), 6)$$"
   ]
  },
  {
   "cell_type": "code",
   "execution_count": 8,
   "metadata": {},
   "outputs": [
    {
     "name": "stdout",
     "output_type": "stream",
     "text": [
      "[0. 5. 6.]\n"
     ]
    }
   ],
   "source": [
    "print(session.run(nn.relu6([-5., 5., 15.])))"
   ]
  },
  {
   "cell_type": "markdown",
   "metadata": {},
   "source": [
    "## Función sigmoide (logística)...\n",
    "* Contínua\n",
    "* Derivable\n",
    "* Rango de valores (0, 1)"
   ]
  },
  {
   "cell_type": "markdown",
   "metadata": {},
   "source": [
    "$$f(x) = \\frac{1}{1 + e^{-x}}$$"
   ]
  },
  {
   "cell_type": "code",
   "execution_count": 9,
   "metadata": {},
   "outputs": [
    {
     "name": "stdout",
     "output_type": "stream",
     "text": [
      "[0.11920292 0.26894143 0.5        0.7310586  0.880797  ]\n"
     ]
    }
   ],
   "source": [
    "print(session.run(nn.sigmoid([-2., -1., 0., 1., 2.])))"
   ]
  },
  {
   "cell_type": "markdown",
   "metadata": {},
   "source": [
    "## Función Tangente Hiperbólica...\n",
    "* Continua \n",
    "* Derivable\n",
    "* Rango de valores (-1, 1)"
   ]
  },
  {
   "cell_type": "markdown",
   "metadata": {},
   "source": [
    "$$f(x) = tanh(x) = \\frac{e^x - e^-x}{e^x + e^-x}$$"
   ]
  },
  {
   "cell_type": "code",
   "execution_count": 10,
   "metadata": {},
   "outputs": [
    {
     "name": "stdout",
     "output_type": "stream",
     "text": [
      "[-0.9640276 -0.7615942  0.         0.7615942  0.9640276]\n"
     ]
    }
   ],
   "source": [
    "print(session.run(nn.tanh([-2., -1., 0., 1., 2.])))"
   ]
  },
  {
   "cell_type": "markdown",
   "metadata": {},
   "source": [
    "## Función softsign...\n",
    "* Versión continua de la función sign\n",
    "* No es derivable"
   ]
  },
  {
   "cell_type": "code",
   "execution_count": 11,
   "metadata": {
    "scrolled": true
   },
   "outputs": [
    {
     "name": "stdout",
     "output_type": "stream",
     "text": [
      "[-0.6666667 -0.5        0.         0.5        0.6666667]\n"
     ]
    }
   ],
   "source": [
    "print(session.run(nn.softsign([-2., -1., 0., 1., 2.])))"
   ]
  },
  {
   "cell_type": "markdown",
   "metadata": {},
   "source": [
    "$$f(x) = \\frac{x}{|x| + 1}$$"
   ]
  },
  {
   "cell_type": "markdown",
   "metadata": {},
   "source": [
    "## Función softplus...\n",
    "* Versión continua y derivable de la función ReLU"
   ]
  },
  {
   "cell_type": "markdown",
   "metadata": {},
   "source": [
    "$$f(x) = ln(e^x + 1)$$"
   ]
  },
  {
   "cell_type": "code",
   "execution_count": 12,
   "metadata": {},
   "outputs": [
    {
     "name": "stdout",
     "output_type": "stream",
     "text": [
      "[0.12692805 0.31326166 0.6931472  1.3132616  2.126928  ]\n"
     ]
    }
   ],
   "source": [
    "print(session.run(nn.softplus([-2., -1., 0., 1., 2.])))"
   ]
  },
  {
   "cell_type": "markdown",
   "metadata": {},
   "source": [
    "## Función ELU (Exponencial Lineal Unitaria)...\n",
    "* Similar a la soft plus\n",
    "* Asíntota horizontal tiende a -1"
   ]
  },
  {
   "cell_type": "markdown",
   "metadata": {},
   "source": [
    "$$f(x) = e^x + 1 \\ si x < 0$$\n",
    "$$f(x) = x \\ si x \\geq 0$$"
   ]
  },
  {
   "cell_type": "code",
   "execution_count": 13,
   "metadata": {},
   "outputs": [
    {
     "name": "stdout",
     "output_type": "stream",
     "text": [
      "[-0.86466473 -0.63212055  0.          1.          2.        ]\n"
     ]
    }
   ],
   "source": [
    "print(session.run(nn.elu([-2., -1., 0., 1., 2.])))"
   ]
  },
  {
   "cell_type": "markdown",
   "metadata": {},
   "source": [
    "## Gráfico de las funciones de activación...\n",
    "![](../../resources/02-act.png)\n",
    "![](../../resources/03-act.png)"
   ]
  },
  {
   "cell_type": "code",
   "execution_count": null,
   "metadata": {},
   "outputs": [],
   "source": []
  }
 ],
 "metadata": {
  "kernelspec": {
   "display_name": "Python 3",
   "language": "python",
   "name": "python3"
  },
  "language_info": {
   "codemirror_mode": {
    "name": "ipython",
    "version": 3
   },
   "file_extension": ".py",
   "mimetype": "text/x-python",
   "name": "python",
   "nbconvert_exporter": "python",
   "pygments_lexer": "ipython3",
   "version": "3.7.3"
  }
 },
 "nbformat": 4,
 "nbformat_minor": 2
}
